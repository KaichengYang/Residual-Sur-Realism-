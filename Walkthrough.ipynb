{
 "cells": [
  {
   "cell_type": "code",
   "execution_count": 12,
   "metadata": {
    "collapsed": false
   },
   "outputs": [],
   "source": [
    "import matplotlib.pyplot as plt\n",
    "import numpy as np"
   ]
  },
  {
   "cell_type": "markdown",
   "metadata": {},
   "source": [
    "# A Python implementation for Residual Sur(Realism)"
   ]
  },
  {
   "cell_type": "markdown",
   "metadata": {},
   "source": [
    "The goal of here is very simple.\n",
    "Given an image, we want to process the image to generate a set of data so that by applying linear regression on the data set, we can reproduce the image by ploting the residuals against predicted values.\n",
    "\n",
    "For more detailed information, follow the [link](http://www4.stat.ncsu.edu/~stefanski/NSF_Supported/Hidden_Images/stat_res_plots.html#Download_Data_Sets) and read [the paper](http://www4.stat.ncsu.edu/~stefanski/NSF_Supported/Hidden_Images/Residual_Surrealism_TAS_2007.pdf). \n",
    "\n",
    "There is an implementation in R on the web page mentioned above.\n",
    "This repo contains a Python 2.7 implementation.\n",
    "The implementation here is based on the original paper.\n",
    "\n",
    "All the useful methods and class are in `residuals.py`.\n",
    "\n",
    "Dependencies:\n",
    "\n",
    "* numpy\n",
    "* sklearn\n",
    "* matplotlib\n",
    "* PIL\n"
   ]
  },
  {
   "cell_type": "markdown",
   "metadata": {},
   "source": [
    "# Plot the residuals vs predicted values"
   ]
  },
  {
   "cell_type": "markdown",
   "metadata": {},
   "source": [
    "Here we demostrate how to plot the residuals vs predicted values plot with a given data set.\n",
    "\n",
    "We are going to need the `residuals.calculateResidualsFromFile()` function from `residuals.py`.\n",
    "So we import `residuals.py` first."
   ]
  },
  {
   "cell_type": "code",
   "execution_count": 1,
   "metadata": {
    "collapsed": true
   },
   "outputs": [],
   "source": [
    "import residuals"
   ]
  },
  {
   "cell_type": "markdown",
   "metadata": {},
   "source": [
    "Getting the residuals and predicted values is very simple.\n",
    "We just need to give `residuals.calculateResidualsFromFile()` the path to the data set.\n",
    "We have an example data set called `gauss_data.txt` in the repo, which will show a portrait of Gauss if treated correctly."
   ]
  },
  {
   "cell_type": "code",
   "execution_count": 5,
   "metadata": {
    "collapsed": false
   },
   "outputs": [],
   "source": [
    "gauss_predicted, gauss_residuals = residuals.calculateResidualsFromFile(\"./gauss_data.txt\")"
   ]
  },
  {
   "cell_type": "markdown",
   "metadata": {},
   "source": [
    "Then we just need to do a scatter plot of the residuals vs the predicted values"
   ]
  },
  {
   "cell_type": "code",
   "execution_count": 7,
   "metadata": {
    "collapsed": false
   },
   "outputs": [
    {
     "data": {
      "text/plain": [
       "<matplotlib.collections.PathCollection at 0x1112d3750>"
      ]
     },
     "execution_count": 7,
     "metadata": {},
     "output_type": "execute_result"
    },
    {
     "data": {
      "image/png": "[encoded data removed]",
      "text/plain": [
       "<matplotlib.figure.Figure at 0x1108c08d0>"
      ]
     },
     "metadata": {},
     "output_type": "display_data"
    }
   ],
   "source": [
    "scatter(gauss_predicted, gauss_residuals, s=0.2)"
   ]
  },
  {
   "cell_type": "markdown",
   "metadata": {},
   "source": [
    "Later we can use this function to see if we are genrating the right data set."
   ]
  },
  {
   "cell_type": "markdown",
   "metadata": {},
   "source": [
    "# Generate the image"
   ]
  },
  {
   "cell_type": "markdown",
   "metadata": {},
   "source": [
    "In order to generate a data set, we first need to generate an image.\n",
    "Unfortunately this can not be achieved by using Python.\n",
    "\n",
    "Theoretically, the image can be anything you want.\n",
    "But due to the resulotion restriction of scatter plot, simpler images lead to better final results.\n",
    "`FA2017ADS.jpg` in the repo is a very good example of simple yet clear image."
   ]
  },
  {
   "cell_type": "markdown",
   "metadata": {},
   "source": [
    "# Processing the image "
   ]
  },
  {
   "cell_type": "markdown",
   "metadata": {},
   "source": [
    "Before generating the data, we need to precess the image to get the coordinates of the wanted dots.\n",
    "The `residuals.ImageProcessor` class can help us acheive this by going through the following steps:\n",
    "\n",
    "* Convert the image to grayscale\n",
    "* Extract the coordinates of the dark pixles and renormalize the coordinates\n",
    "* Add a frame so the coordinates are orthogonal\n",
    "\n",
    "For the theory behind all these steps, please read the original paper.\n",
    "\n",
    "We will use `FA2017ADS.jpg` as an example to show you how to do this.\n",
    "First we import the PIL lib."
   ]
  },
  {
   "cell_type": "code",
   "execution_count": 8,
   "metadata": {
    "collapsed": true
   },
   "outputs": [],
   "source": [
    "from PIL import Image"
   ]
  },
  {
   "cell_type": "markdown",
   "metadata": {},
   "source": [
    "Open the image we want to process with PIL and feed the image to `residuals.ImageProcessor`."
   ]
  },
  {
   "cell_type": "code",
   "execution_count": 9,
   "metadata": {
    "collapsed": true
   },
   "outputs": [],
   "source": [
    "FA2017ADS_image = Image.open(\"./FA2017ADS.jpg\")\n",
    "FA2017ADS_image_processor = residuals.ImageProcessor(FA2017ADS_image)"
   ]
  },
  {
   "cell_type": "markdown",
   "metadata": {},
   "source": [
    "Then we need to add a frame to the image:"
   ]
  },
  {
   "cell_type": "code",
   "execution_count": 10,
   "metadata": {
    "collapsed": true
   },
   "outputs": [],
   "source": [
    "FA2017ADS_image_processor.addFrame()"
   ]
  },
  {
   "cell_type": "markdown",
   "metadata": {},
   "source": [
    "The coordinates of the dark pixles can be accessed as follows:"
   ]
  },
  {
   "cell_type": "code",
   "execution_count": 15,
   "metadata": {
    "collapsed": true
   },
   "outputs": [],
   "source": [
    "FA2017ADS_predicted, FA2017ADS_residuals = FA2017ADS_image_processor.final_xs, FA2017ADS_image_processor.final_ys"
   ]
  },
  {
   "cell_type": "markdown",
   "metadata": {},
   "source": [
    "By doing the scatter plot, we can see the results are indeed what we want."
   ]
  },
  {
   "cell_type": "code",
   "execution_count": 16,
   "metadata": {
    "collapsed": false
   },
   "outputs": [
    {
     "data": {
      "text/plain": [
       "<matplotlib.collections.PathCollection at 0x111601dd0>"
      ]
     },
     "execution_count": 16,
     "metadata": {},
     "output_type": "execute_result"
    },
    {
     "data": {
      "image/png": "[encoded data removed]",
      "text/plain": [
       "<matplotlib.figure.Figure at 0x111561710>"
      ]
     },
     "metadata": {},
     "output_type": "display_data"
    }
   ],
   "source": [
    "plt.scatter(FA2017ADS_predicted, FA2017ADS_residuals, s=0.2)"
   ]
  },
  {
   "cell_type": "markdown",
   "metadata": {},
   "source": [
    "# Generate the data set"
   ]
  },
  {
   "cell_type": "markdown",
   "metadata": {},
   "source": [
    "Now that we have the coordinates of the dark pixels, we can use `residuals.DataGenerator` to generate the data set.\n",
    "The following code show how to generate the data set with 4 features and save the results to a .txt file.\n",
    "\n",
    "Please read the orignal paper for the theory behind and the meaning of the paramter "
   ]
  },
  {
   "cell_type": "code",
   "execution_count": 20,
   "metadata": {
    "collapsed": false
   },
   "outputs": [
    {
     "name": "stdout",
     "output_type": "stream",
     "text": [
      "Round 0, delta: 3.94E-03\n",
      "Round 1, delta: 4.85E-05\n",
      "Round 2, delta: 6.08E-07\n",
      "Round 3, delta: 7.58E-09\n",
      "Round 4, delta: 9.44E-11\n",
      "Round 5, delta: 1.18E-12\n",
      "Round 6, delta: 1.47E-14\n"
     ]
    }
   ],
   "source": [
    "FA2017ADS_dat_generator = residuals.DataGenerator(FA2017ADS_predicted, FA2017ADS_residuals, 0.75, FA2017ADS_predicted.shape[0], 4, 4, 0)\n",
    "# generate the features and target\n",
    "FA2017ADS_dat_generator.generateData()\n",
    "# save the data into file\n",
    "# the first column is the target and the rest are features\n",
    "FA2017ADS_dat_generator.dumpData(\"FA2017GeneratedData.txt\")"
   ]
  },
  {
   "cell_type": "markdown",
   "metadata": {},
   "source": [
    "To ensure the data set is correct, we can apply linear regression to it and see the result."
   ]
  },
  {
   "cell_type": "code",
   "execution_count": 21,
   "metadata": {
    "collapsed": false
   },
   "outputs": [
    {
     "data": {
      "text/plain": [
       "<matplotlib.collections.PathCollection at 0x111943ad0>"
      ]
     },
     "execution_count": 21,
     "metadata": {},
     "output_type": "execute_result"
    },
    {
     "data": {
      "image/png": "[encoded data removed]",
      "text/plain": [
       "<matplotlib.figure.Figure at 0x111601f50>"
      ]
     },
     "metadata": {},
     "output_type": "display_data"
    }
   ],
   "source": [
    "FA2017ADS_predicted_test, FA2017ADS_residuals_test = residuals.calculateResidualsFromFile(\"./FA2017GeneratedData.txt\")\n",
    "plt.scatter(FA2017ADS_predicted_test, FA2017ADS_residuals, s=0.2)"
   ]
  }
 ],
 "metadata": {
  "kernelspec": {
   "display_name": "Python 2",
   "language": "python",
   "name": "python2"
  },
  "language_info": {
   "codemirror_mode": {
    "name": "ipython",
    "version": 2
   },
   "file_extension": ".py",
   "mimetype": "text/x-python",
   "name": "python",
   "nbconvert_exporter": "python",
   "pygments_lexer": "ipython2",
   "version": "2.7.14"
  }
 },
 "nbformat": 4,
 "nbformat_minor": 0
}
